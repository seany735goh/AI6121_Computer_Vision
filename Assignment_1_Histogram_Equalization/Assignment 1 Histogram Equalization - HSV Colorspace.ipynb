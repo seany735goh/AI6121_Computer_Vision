{
 "cells": [
  {
   "cell_type": "code",
   "execution_count": 19,
   "id": "d61a9309",
   "metadata": {},
   "outputs": [
    {
     "data": {
      "image/png": "[encoded data removed]",
      "text/plain": [
       "<Figure size 432x288 with 1 Axes>"
      ]
     },
     "metadata": {
      "needs_background": "light"
     },
     "output_type": "display_data"
    }
   ],
   "source": [
    "import numpy as np\n",
    "from PIL import Image\n",
    "from matplotlib import pyplot as plt\n",
    "\n",
    "# filename = \"sample01.jpg\"\n",
    "# filename = \"sample02.jpeg\"\n",
    "filename = \"sample03.jpeg\"\n",
    "# filename = \"sample04.jpeg\"\n",
    "# filename = \"sample05.jpeg\"\n",
    "# filename = \"sample06.jpg\"\n",
    "# filename = \"sample07.jpg\"\n",
    "# filename = \"sample08.jpg\"\n",
    "save_filename = \"HSV_HE_\" + filename\n",
    "\n",
    "# import image and split into HSV arrays\n",
    "img = Image.open(filename)\n",
    "img= img.convert('HSV')\n",
    "img = np.asarray(img)\n",
    "h = img[:,:,0]\n",
    "s = img[:,:,1]\n",
    "v = img[:,:,2]\n",
    "\n",
    "# Total no. of pixels\n",
    "height = len(np.asarray(img))\n",
    "width = len(np.asarray(img)[0])\n",
    "N_pixels = height * width\n",
    "\n",
    "# No. of bins\n",
    "L = 256\n",
    "\n",
    "# Histogram of V array\n",
    "histogram_v_array = np.bincount(v.flatten(), minlength=L)\n",
    "\n",
    "# Probability\n",
    "P_v_array = histogram_v_array / N_pixels\n",
    "\n",
    "# Transformation function s_k\n",
    "s_k_v_array = (L-1) * np.cumsum(P_v_array)\n",
    "\n",
    "# Equalized histogram\n",
    "eqhistogram_v_array = np.floor(s_k_v_array).astype(np.uint8)\n",
    "\n",
    "# flatten image V array into 1D\n",
    "im_v_flat = np.asarray(v).flatten()\n",
    "\n",
    "# replace pixel values with values from equalized histogram to equalize\n",
    "eq_img_v_flat = [eqhistogram_v_array[p] for p in im_v_flat]\n",
    "\n",
    "# plot old vs new histograam for V array\n",
    "plt.hist(v.flatten(),bins=L,label='Original V')\n",
    "plt.hist(eq_img_v_flat,bins=L,label='New V')\n",
    "plt.legend(loc='upper right')\n",
    "plt.show()\n",
    "\n",
    "# reshape equalized pixel values back into original V array shape\n",
    "eq_img_v_array = np.reshape(np.asarray(eq_img_v_flat), np.asarray(v).shape)\n",
    "\n",
    "# merge HSV arrays into one and save as a RGB image file\n",
    "eq_img = np.zeros((height,width,3), 'uint8')\n",
    "eq_img[:,:,0] = h\n",
    "eq_img[:,:,1] = s\n",
    "eq_img[:,:,2] = eq_img_v_array\n",
    "\n",
    "eq_img = Image.fromarray(eq_img, mode='HSV')\n",
    "eq_img = eq_img.convert('RGB')\n",
    "# eq_img.save(save_filename)"
   ]
  },
  {
   "cell_type": "code",
   "execution_count": 42,
   "id": "5767563f",
   "metadata": {},
   "outputs": [
    {
     "data": {
      "text/plain": [
       "array([142,  49, 255], dtype=uint8)"
      ]
     },
     "execution_count": 42,
     "metadata": {},
     "output_type": "execute_result"
    }
   ],
   "source": [
    "# histogram_v_array # old histogram\n",
    "# P_v_array\n",
    "# s_k_v_array\n",
    "# eqhistogram_v_array\n",
    "# im_v_flat\n",
    "# eq_img_v_flat\n",
    "# eq_img_v_array\n",
    "# np.bincount(eq_img_v_flat, minlength=L)\n",
    "# v.flatten()\n",
    "# eq_img\n",
    "\n",
    "eq_img2 = np.zeros((height,width,3), 'uint8')\n",
    "eq_img2[:,:,0] = h\n",
    "eq_img2[:,:,1] = s\n",
    "eq_img2[:,:,2] = eq_img_v_array\n",
    "\n"
   ]
  }
 ],
 "metadata": {
  "kernelspec": {
   "display_name": "Python 3 (ipykernel)",
   "language": "python",
   "name": "python3"
  },
  "language_info": {
   "codemirror_mode": {
    "name": "ipython",
    "version": 3
   },
   "file_extension": ".py",
   "mimetype": "text/x-python",
   "name": "python",
   "nbconvert_exporter": "python",
   "pygments_lexer": "ipython3",
   "version": "3.9.12"
  }
 },
 "nbformat": 4,
 "nbformat_minor": 5
}
